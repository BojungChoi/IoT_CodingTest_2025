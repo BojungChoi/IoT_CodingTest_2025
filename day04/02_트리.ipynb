{
 "cells": [
  {
   "cell_type": "markdown",
   "id": "e7247ab2",
   "metadata": {},
   "source": [
    "## 트리\n",
    "\n",
    "### 몸풀기 문제\n",
    "\n",
    "#### 트리 순회\n",
    "- preorder, inorder, postorder"
   ]
  },
  {
   "cell_type": "code",
   "execution_count": null,
   "id": "3a901df6",
   "metadata": {},
   "outputs": [],
   "source": [
    "# root, left, right 순으로 순회\n",
    "def preorder(nodes, index):\n",
    "    # index가 노트의 리스트의 길이보다 작으면\n",
    "    if index < len(nodes):\n",
    "        ret = str(nodes[index]) + ' '\n",
    "        ret += preorder(nodes, index * 2 + 1) # 배열이어서 index * 2 + 1 이 트리노드 왼쪽\n",
    "        ret += preorder(nodes, index * 2 + 2) # 배열이어서 index * 2 + 2 가 트리노드 오른쪽\n",
    "        return ret\n",
    "    else:\n",
    "        return ''\n",
    "\n",
    "# left, root, right 순으로 순회\n",
    "def inorder(nodes, idx):\n",
    "    if idx < len(nodes):\n",
    "        ret = inorder(nodes, idx * 2 + 1)\n",
    "        ret += str(nodes[idx]) + ' '\n",
    "        ret += inorder(nodes, idx * 2 + 2)\n",
    "        return ret\n",
    "    else:\n",
    "        return ''\n",
    "\n",
    "# left, right, root 순으로 순회    \n",
    "def postorder(nodes, idx):\n",
    "    if idx < len(nodes):\n",
    "        ret = postorder(nodes, idx * 2 + 1)\n",
    "        ret += postorder(nodes, idx * 2 + 2)\n",
    "        ret += str(nodes[idx]) + ' '\n",
    "        return ret\n",
    "    else:\n",
    "        return ''\n",
    "\n",
    "def solution(nodes):\n",
    "    return [\n",
    "        preorder(nodes, 0)[:-1], # [:-1] 마지막 공백 제거\n",
    "        inorder(nodes, 0)[:-1], \n",
    "        postorder(nodes, 0)[:-1], \n",
    "    ]"
   ]
  },
  {
   "cell_type": "code",
   "execution_count": 10,
   "id": "462e6394",
   "metadata": {},
   "outputs": [
    {
     "data": {
      "text/plain": [
       "['1 2 4 5 3 6 7', '4 2 5 1 6 3 7', '4 5 2 6 7 3 1']"
      ]
     },
     "execution_count": 10,
     "metadata": {},
     "output_type": "execute_result"
    }
   ],
   "source": [
    "solution([1,2,3,4,5,6,7])"
   ]
  },
  {
   "cell_type": "markdown",
   "id": "963847be",
   "metadata": {},
   "source": [
    "#### 이진 탐색 트리 구현\n",
    "- 추후 구현 "
   ]
  },
  {
   "cell_type": "markdown",
   "id": "413ee7d8",
   "metadata": {},
   "source": [
    "### 모의 테스트\n",
    "\n",
    "#### 예상 대진표\n",
    "- https://school.programmers.co.kr/learn/courses/30/lessons/12985"
   ]
  },
  {
   "cell_type": "code",
   "execution_count": 2,
   "id": "6c26b24e",
   "metadata": {},
   "outputs": [],
   "source": [
    "def solution(n,a,b):\n",
    "    answer = 0\n",
    "    c=0\n",
    "    maxn = bin(n).count('0') - 1\t\t # 최대 라운드 ex) n = 4 = 100 이므로 2라운드\n",
    "\t\t\t\t\t\t\t\t\t\t # bin() 해주면 0b100로 변환되기 때문에 -1    \n",
    "    if a > b:\t\t\t\t\t\t\t # a가 b보다 커질 수 있음을 방지\n",
    "        a, b = b, a\n",
    "        \n",
    "    n = n//2                             # 중간을 기준으로 판별\n",
    "    c = n\n",
    "    for i in range(maxn, 0, -1):\n",
    "        if i == 1:\n",
    "            return 1\n",
    "        \n",
    "        if (a > n and b > n):\t\t\t # 둘 다 n보다 크면 중간으로 나눈뒤 라운드 -1\n",
    "            c=c//2\n",
    "            n += c\n",
    "            continue\n",
    "            \n",
    "        elif (a <=n and b<=n):\t\t\t # 적으면 반으로 나눔\n",
    "            c=c//2\n",
    "            n -= c\n",
    "            continue\n",
    "        return i"
   ]
  },
  {
   "cell_type": "code",
   "execution_count": 3,
   "id": "e81d3e74",
   "metadata": {},
   "outputs": [
    {
     "data": {
      "text/plain": [
       "3"
      ]
     },
     "execution_count": 3,
     "metadata": {},
     "output_type": "execute_result"
    }
   ],
   "source": [
    "solution(8, 4, 7)"
   ]
  },
  {
   "cell_type": "markdown",
   "id": "2334491b",
   "metadata": {},
   "source": [
    "#### 다단계 칫솔 판매\n",
    "- https://school.programmers.co.kr/learn/courses/30/lessons/77486"
   ]
  },
  {
   "cell_type": "code",
   "execution_count": 8,
   "id": "ee451e8d",
   "metadata": {},
   "outputs": [
    {
     "data": {
      "text/plain": [
       "[('apple', 1000), ('banana', 2000), ('cherry', 3000)]"
      ]
     },
     "execution_count": 8,
     "metadata": {},
     "output_type": "execute_result"
    }
   ],
   "source": [
    "fruits = ['apple', 'banana', 'cherry']\n",
    "prices = [1000, 2000, 3000]\n",
    "list(zip(fruits, prices))"
   ]
  },
  {
   "cell_type": "code",
   "execution_count": null,
   "id": "c7050dad",
   "metadata": {},
   "outputs": [],
   "source": [
    "# 구현\n",
    "def solution(enroll, referral, seller, amount):\n",
    "    answer = []\n",
    "    # parent 딕셔너리 생성, enroll을 key, referral을 Value\n",
    "    parent = dict(zip(enroll, referral))\n",
    "    print(parent)\n",
    "\n",
    "    # total 딕셔너리 생성\n",
    "    total = {name : 0 for name in enroll}\n",
    "    print(total)\n",
    "\n",
    "    # seller와 amount로 이익 분배처리\n",
    "\n",
    "    for i in range(len(seller)):\n",
    "        # seller가 판매한 총 금액 계산\n",
    "        money = amount[i] * 100\n",
    "        curr_name = seller[i]\n",
    "        print(money, curr_name)\n",
    "\n",
    "        #!! 판매자부터 상위노드(추천자)로 이동하면서 이익 분배\n",
    "        while money > 0 and curr_name != '-':\n",
    "            # 현재 판매자가 받을 금액(10% 제외한 금액)\n",
    "            total[curr_name] += money - money // 10\n",
    "            curr_name = parent[curr_name]\n",
    "            # 현재 판매자 기준, 분배금 계산위해\n",
    "            money //= 10\n",
    "    return answer"
   ]
  },
  {
   "cell_type": "code",
   "execution_count": 16,
   "id": "ca37a7e3",
   "metadata": {},
   "outputs": [
    {
     "name": "stdout",
     "output_type": "stream",
     "text": [
      "{'john': '-', 'mary': '-', 'edward': 'mary', 'sam': 'edward', 'emily': 'mary', 'jaimie': 'mary', 'tod': 'jaimie', 'young': 'edward'}\n",
      "{'john': 0, 'mary': 0, 'edward': 0, 'sam': 0, 'emily': 0, 'jaimie': 0, 'tod': 0, 'young': 0}\n",
      "1200 young\n",
      "400 john\n",
      "200 tod\n",
      "500 emily\n",
      "1000 mary\n"
     ]
    },
    {
     "data": {
      "text/plain": [
       "[]"
      ]
     },
     "execution_count": 16,
     "metadata": {},
     "output_type": "execute_result"
    }
   ],
   "source": [
    "# 결과 [360, 958, 108, 0, 450, 18, 180, 1080]\n",
    "solution([\"john\", \"mary\", \"edward\", \"sam\", \"emily\", \"jaimie\", \"tod\", \"young\"],\n",
    "         [\"-\", \"-\", \"mary\", \"edward\", \"mary\", \"mary\", \"jaimie\", \"edward\"],\n",
    "         [\"young\", \"john\", \"tod\", \"emily\", \"mary\"],\n",
    "         [12, 4, 2, 5, 10])"
   ]
  }
 ],
 "metadata": {
  "kernelspec": {
   "display_name": "3.11.9",
   "language": "python",
   "name": "python3"
  },
  "language_info": {
   "codemirror_mode": {
    "name": "ipython",
    "version": 3
   },
   "file_extension": ".py",
   "mimetype": "text/x-python",
   "name": "python",
   "nbconvert_exporter": "python",
   "pygments_lexer": "ipython3",
   "version": "3.11.9"
  }
 },
 "nbformat": 4,
 "nbformat_minor": 5
}
